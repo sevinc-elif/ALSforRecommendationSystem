{
  "nbformat": 4,
  "nbformat_minor": 0,
  "metadata": {
    "colab": {
      "provenance": [],
      "mount_file_id": "1k7fXV2LztCCfIz1F8T-pIwLNLoKUbx54",
      "authorship_tag": "ABX9TyN6mHmQwVccZgSM/KayNlxL",
      "include_colab_link": true
    },
    "kernelspec": {
      "name": "python3",
      "display_name": "Python 3"
    },
    "language_info": {
      "name": "python"
    }
  },
  "cells": [
    {
      "cell_type": "markdown",
      "metadata": {
        "id": "view-in-github",
        "colab_type": "text"
      },
      "source": [
        "<a href=\"https://colab.research.google.com/github/sevinc-elif/ALSforRecommendationSystem/blob/main/ALSforRecommendationSystem.ipynb\" target=\"_parent\"><img src=\"https://colab.research.google.com/assets/colab-badge.svg\" alt=\"Open In Colab\"/></a>"
      ]
    },
    {
      "cell_type": "code",
      "source": [
        "#Spark ı Colab a ekleme"
      ],
      "metadata": {
        "id": "ye8pfPvNfQH8"
      },
      "execution_count": null,
      "outputs": []
    },
    {
      "cell_type": "code",
      "execution_count": 2,
      "metadata": {
        "id": "w7Yatpom-HUJ"
      },
      "outputs": [],
      "source": [
        "!apt-get install openjdk-8-jdk-headless -qq > /dev/null\n",
        "!wget -q http://archive.apache.org/dist/spark/spark-3.5.1/spark-3.5.1-bin-hadoop3.tgz\n",
        "!tar xf spark-3.5.1-bin-hadoop3.tgz\n",
        "!pip install -q findspark"
      ]
    },
    {
      "cell_type": "code",
      "source": [
        "import os\n",
        "os.environ[\"JAVA_HOME\"] = \"/usr/lib/jvm/java-8-openjdk-amd64\"\n",
        "os.environ[\"SPARK_HOME\"] = \"/content/spark-3.5.1-bin-hadoop3\""
      ],
      "metadata": {
        "id": "-ZsTCZe6ce8m"
      },
      "execution_count": 3,
      "outputs": []
    },
    {
      "cell_type": "code",
      "source": [
        "import findspark\n",
        "findspark.init()\n",
        "from pyspark.sql import SparkSession\n",
        "spark = SparkSession.builder.master(\"local[*]\").getOrCreate()\n",
        "spark.conf.set(\"spark.sql.repl.eagerEval.enabled\", True) # Property used to format output tables better\n",
        "spark\n"
      ],
      "metadata": {
        "colab": {
          "base_uri": "https://localhost:8080/",
          "height": 222
        },
        "id": "ALVEW9vfchTP",
        "outputId": "289d649a-12ed-403e-b266-1f018eaa6aab"
      },
      "execution_count": 4,
      "outputs": [
        {
          "output_type": "execute_result",
          "data": {
            "text/plain": [
              "<pyspark.sql.session.SparkSession at 0x7d941349c550>"
            ],
            "text/html": [
              "\n",
              "            <div>\n",
              "                <p><b>SparkSession - in-memory</b></p>\n",
              "                \n",
              "        <div>\n",
              "            <p><b>SparkContext</b></p>\n",
              "\n",
              "            <p><a href=\"http://3c4290edef23:4040\">Spark UI</a></p>\n",
              "\n",
              "            <dl>\n",
              "              <dt>Version</dt>\n",
              "                <dd><code>v3.5.1</code></dd>\n",
              "              <dt>Master</dt>\n",
              "                <dd><code>local[*]</code></dd>\n",
              "              <dt>AppName</dt>\n",
              "                <dd><code>pyspark-shell</code></dd>\n",
              "            </dl>\n",
              "        </div>\n",
              "        \n",
              "            </div>\n",
              "        "
            ]
          },
          "metadata": {},
          "execution_count": 4
        }
      ]
    },
    {
      "cell_type": "code",
      "source": [
        "#veri setini aktarma\n",
        "data=spark.read.option(\"delimiter\",\";\").csv('/content/drive/MyDrive/BTK/MarketSales_20220215.csv',header=True,inferSchema=True)"
      ],
      "metadata": {
        "id": "85lLvKICc5Ot"
      },
      "execution_count": 5,
      "outputs": []
    },
    {
      "cell_type": "code",
      "source": [
        "#verinin şemasını inceleme\n",
        "data.printSchema()"
      ],
      "metadata": {
        "colab": {
          "base_uri": "https://localhost:8080/"
        },
        "id": "VmVEmkXjhHwh",
        "outputId": "830a5d4e-5141-44b7-8c68-7e4c077a3178"
      },
      "execution_count": 6,
      "outputs": [
        {
          "output_type": "stream",
          "name": "stdout",
          "text": [
            "root\n",
            " |-- ID: string (nullable = true)\n",
            " |-- ITEMNAME: string (nullable = true)\n",
            " |-- DATE_: string (nullable = true)\n",
            " |-- AMOUNT: double (nullable = true)\n",
            " |-- PRICE: double (nullable = true)\n",
            " |-- LINENETTOTAL: double (nullable = true)\n",
            " |-- BRANCHNR: integer (nullable = true)\n",
            " |-- BRANCH: string (nullable = true)\n",
            " |-- SALESMAN: string (nullable = true)\n",
            " |-- CITY: string (nullable = true)\n",
            " |-- REGION: string (nullable = true)\n",
            " |-- CLIENTCODE: string (nullable = true)\n",
            " |-- CLIENTNAME: string (nullable = true)\n",
            " |-- BRANDCODE: string (nullable = true)\n",
            " |-- BRAND: string (nullable = true)\n",
            " |-- CATEGORY_NAME1: string (nullable = true)\n",
            " |-- CATEGORY_NAME2: string (nullable = true)\n",
            " |-- CATEGORY_NAME3: string (nullable = true)\n",
            " |-- STARTDATE: string (nullable = true)\n",
            " |-- ENDDATE: string (nullable = true)\n",
            " |-- GENDER: string (nullable = true)\n",
            "\n"
          ]
        }
      ]
    },
    {
      "cell_type": "code",
      "source": [
        "#veriyi görüntüleme\n",
        "data.show(truncate=False)"
      ],
      "metadata": {
        "colab": {
          "base_uri": "https://localhost:8080/"
        },
        "id": "BW3gGDODhj2k",
        "outputId": "a4be231c-5bf8-466c-bd1a-02ff217cad6a"
      },
      "execution_count": 7,
      "outputs": [
        {
          "output_type": "stream",
          "name": "stdout",
          "text": [
            "+-----+--------------------------------------+--------------+------+-----+------------+--------+----------------+------------------+---------+-----------------+----------+----------------+---------+--------------+---------------+---------------+------------------+--------------+--------------+------+\n",
            "|ID   |ITEMNAME                              |DATE_         |AMOUNT|PRICE|LINENETTOTAL|BRANCHNR|BRANCH          |SALESMAN          |CITY     |REGION           |CLIENTCODE|CLIENTNAME      |BRANDCODE|BRAND         |CATEGORY_NAME1 |CATEGORY_NAME2 |CATEGORY_NAME3    |STARTDATE     |ENDDATE       |GENDER|\n",
            "+-----+--------------------------------------+--------------+------+-----+------------+--------+----------------+------------------+---------+-----------------+----------+----------------+---------+--------------+---------------+---------------+------------------+--------------+--------------+------+\n",
            "|11738|SPRITE 1 LT LIMON AROMALI GAZOZ       |07/01/17 00:00|1.0   |2.0  |2.0         |52      |Kocaeli Subesi  |Ey�p C�NE         |Kocaeli  |Marmara          |467369    |Sercan KIZILOK  |156      |SPR�TE        |��ECEK         |GAZLI ��ECEK   |GAZOZ             |08/01/17 16:16|08/01/17 16:17|E     |\n",
            "|10537|TOZ SEKER                             |06/01/17 00:00|5.0   |2.65 |13.25       |8       |Antalya Subesi  |�lhan �RENL�      |Antalya  |Akdeniz          |131464    |�smet �INGIR    |NULL     |NULL          |��ECEK         |�AY KAHVE      |SEKER TATLANDIRICI|07/01/17 11:04|07/01/17 11:05|E     |\n",
            "|11335|FALIM SAKIZ 5LI NANE                  |03/01/17 00:00|1.0   |0.4  |0.4         |40      |�stanbul Subesi |�smet SARTIK      |�stanbul |Marmara          |656969    |Ya��z KUBAL     |300      |FALIM         |GIDA           |SAKIZ SEKERLEME|SAKIZ             |04/01/17 14:00|04/01/17 14:01|E     |\n",
            "|11336|FALIM SAKIZ 5LI NANE                  |03/01/17 00:00|1.0   |0.4  |0.4         |40      |�stanbul Subesi |�smet SARTIK      |�stanbul |Marmara          |656969    |Ya��z KUBAL     |300      |FALIM         |GIDA           |SAKIZ SEKERLEME|SAKIZ             |04/01/17 14:00|04/01/17 14:01|E     |\n",
            "|10115|FALIM SAKIZ 5LI CILEK                 |05/01/17 00:00|1.0   |0.4  |0.4         |41      |�zmir Subesi    |G�lten I�LAK      |�zmir    |Ege              |447336    |Habibe AYSAN    |300      |FALIM         |GIDA           |SAKIZ SEKERLEME|SAKIZ             |06/01/17 14:00|06/01/17 14:01|K     |\n",
            "|10649|TOZ SEKER                             |06/01/17 00:00|2.0   |2.65 |5.3         |29      |Elaz�� Subesi   |Serap CARAN       |Elaz��   |Do�u Anadolu     |9485      |G�rkem BALTAOGLU|NULL     |NULL          |��ECEK         |�AY KAHVE      |SEKER TATLANDIRICI|07/01/17 15:40|07/01/17 15:41|E     |\n",
            "|11845|F NEFFIS TOZ SEKER 2 KG               |07/01/17 00:00|1.0   |5.6  |5.6         |55      |Malatya Subesi  |G�lcan D�ZGE�     |Malatya  |Do�u Anadolu     |5481      |Asel L�LEC�O�LU |49       | F NEFF�S     |��ECEK         |�AY KAHVE      |SEKER TATLANDIRICI|08/01/17 17:20|08/01/17 17:21|K     |\n",
            "|11348|TOZ SEKER                             |03/01/17 00:00|2.0   |2.65 |5.3         |40      |�stanbul Subesi |Arife DORAP       |�stanbul |Marmara          |144939    |Efe HAN�AR      |NULL     |NULL          |��ECEK         |�AY KAHVE      |SEKER TATLANDIRICI|04/01/17 14:40|04/01/17 14:42|E     |\n",
            "|10545|TOZ SEKER                             |06/01/17 00:00|2.0   |2.65 |5.3         |56      |Manisa Subesi   |Adil ONDIN        |Manisa   |Ege              |7874      |Melisa G���N    |NULL     |NULL          |��ECEK         |�AY KAHVE      |SEKER TATLANDIRICI|07/01/17 11:08|07/01/17 11:08|K     |\n",
            "|11411|F NEFFIS KESME SEKER 1 KG             |03/01/17 00:00|1.0   |2.85 |2.85        |59      |Mu�la Subesi    |Remziye KES�M     |Mu�la    |Ege              |784782    |��kran COMART   |49       | F NEFF�S     |��ECEK         |�AY KAHVE      |SEKER TATLANDIRICI|04/01/17 15:56|04/01/17 15:57|K     |\n",
            "|10472|KENT TOPITOP DISNEY CILEK KARPUZ 6 AD |05/01/17 00:00|1.0   |1.6  |1.6         |60      |Mu� Subesi      |Melisa KOZGAR     |Mu�      |Do�u Anadolu     |771816    |Aynur KOZGAR    |79       |KENT          |GIDA           |SAKIZ SEKERLEME|�EKERLEME         |06/01/17 18:44|06/01/17 18:45|K     |\n",
            "|10304|VIVIDENT CZD FRUIT SWING 14 ADET 26 GR|05/01/17 00:00|1.0   |1.95 |1.95        |1       |Adana Subesi    |Ramazan SARIMEHMET|Adana    |Akdeniz          |630399    |Rahime KASAP    |148      |V�V�DENT      |GIDA           |SAKIZ SEKERLEME|SAKIZ             |06/01/17 19:52|06/01/17 19:52|K     |\n",
            "|324  |LAVACHE QUIRIT UCGEN PEYNIR           |02/01/17 00:00|1.0   |3.45 |3.45        |66      |Sakarya Subesi  |�lker BALO�LU     |Sakarya  |Marmara          |600916    |Zeki �ALO       |198      |LAVACHE-KARPER|S�T KAHVALTILIK|PEYN�R         |NULL              |03/01/17 15:00|03/01/17 15:02|E     |\n",
            "|9660 |KIRMIZI BIBER                         |06/01/17 00:00|0.235 |4.95 |1.16        |81      |Zonguldak Subesi|Arzu KARAK�TAPO�LU|Zonguldak|Karadeniz        |575194    |H�meyra VEZN�KL�|A25      |HAL           |MEYVE SEBZE    |SEBZE          |NULL              |07/01/17 12:52|07/01/17 12:53|K     |\n",
            "|9662 |CERI DOMATES                          |06/01/17 00:00|0.76  |4.75 |3.61        |81      |Zonguldak Subesi|Arzu KARAK�TAPO�LU|Zonguldak|Karadeniz        |575194    |H�meyra VEZN�KL�|A25      |HAL           |MEYVE SEBZE    |SEBZE          |NULL              |07/01/17 12:52|07/01/17 12:53|K     |\n",
            "|9625 |SALKIM DOMATES                        |06/01/17 00:00|0.945 |5.2  |4.91        |12      |Bal�kesir Subesi|Sami KASIMOVA     |Bal�kesir|Ege              |74884     |Miray KO�O�LU   |A25      |HAL           |MEYVE SEBZE    |SEBZE          |NULL              |07/01/17 11:12|07/01/17 11:13|K     |\n",
            "|9748 |PATATES                               |06/01/17 00:00|2.79  |2.45 |6.84        |12      |Bal�kesir Subesi|Sami KASIMOVA     |Bal�kesir|Ege              |521495    |Bilal PORSUK    |A25      |HAL           |MEYVE SEBZE    |SEBZE          |NULL              |07/01/17 14:28|07/01/17 14:29|E     |\n",
            "|9852 |SALKIM DOMATES                        |06/01/17 00:00|0.745 |5.2  |3.87        |48      |K�r�kkale Subesi|Sami �AYKARA      |K�r�kkale|�� Anadolu       |318719    |Hakan �ZKUTEN   |A25      |HAL           |MEYVE SEBZE    |SEBZE          |NULL              |07/01/17 16:28|07/01/17 16:29|E     |\n",
            "|5191 |PATATES                               |05/01/17 00:00|1.235 |2.45 |3.03        |33      |Gaziantep Subesi|Dilan BAK�R       |Gaziantep|G�neydo�u Anadolu|522358    |Neslihan �AM�L  |A25      |HAL           |MEYVE SEBZE    |SEBZE          |NULL              |06/01/17 11:04|06/01/17 11:04|K     |\n",
            "|3734 |MAGGI CORBA KREMALI MANTAR            |05/01/17 00:00|1.0   |0.85 |0.85        |33      |Gaziantep Subesi|Dilan BAK�R       |Gaziantep|G�neydo�u Anadolu|18004     |�layda AKSOYLU  |90       |MAGG�         |GIDA           |CORBA BULYON   |CORBALAR          |06/01/17 13:16|06/01/17 13:18|K     |\n",
            "+-----+--------------------------------------+--------------+------+-----+------------+--------+----------------+------------------+---------+-----------------+----------+----------------+---------+--------------+---------------+---------------+------------------+--------------+--------------+------+\n",
            "only showing top 20 rows\n",
            "\n"
          ]
        }
      ]
    },
    {
      "cell_type": "code",
      "source": [
        "#veri setindeki satır sayısı\n",
        "data.count()"
      ],
      "metadata": {
        "colab": {
          "base_uri": "https://localhost:8080/"
        },
        "id": "xO55RIw5i2Fo",
        "outputId": "f8d5e11b-dd86-4686-c825-c0818b58b2f7"
      },
      "execution_count": 8,
      "outputs": [
        {
          "output_type": "execute_result",
          "data": {
            "text/plain": [
              "611116"
            ]
          },
          "metadata": {},
          "execution_count": 8
        }
      ]
    },
    {
      "cell_type": "code",
      "source": [
        "# ITEMNAME ve CLIENTNAME sütunlarında boş olan satırları temizleme\n",
        "data = data.dropna(subset=['ITEMNAME', 'CLIENTNAME'])\n"
      ],
      "metadata": {
        "id": "SzsNawGciMtm"
      },
      "execution_count": 9,
      "outputs": []
    },
    {
      "cell_type": "code",
      "source": [
        "#temizlenen veri setindeki satır sayısı\n",
        "data.count()"
      ],
      "metadata": {
        "colab": {
          "base_uri": "https://localhost:8080/"
        },
        "id": "lRKTYIi-jDEK",
        "outputId": "2557740d-51ec-4aa6-c53c-c44118f30d85"
      },
      "execution_count": 10,
      "outputs": [
        {
          "output_type": "execute_result",
          "data": {
            "text/plain": [
              "585796"
            ]
          },
          "metadata": {},
          "execution_count": 10
        }
      ]
    },
    {
      "cell_type": "code",
      "source": [
        "#string değerler içerdiği için müşteri kodu sütununu silme\n",
        "data=data.drop('CLIENTCODE')"
      ],
      "metadata": {
        "id": "lQnbAoCQrHX4"
      },
      "execution_count": 11,
      "outputs": []
    },
    {
      "cell_type": "code",
      "source": [
        "#pandas işlemleri için kütüphaneyi import etme\n",
        "import pandas as pd"
      ],
      "metadata": {
        "id": "a1sEpt4IkH9o"
      },
      "execution_count": 12,
      "outputs": []
    },
    {
      "cell_type": "code",
      "source": [
        "#veriyi pandas a çevirme\n",
        "data = data.toPandas()\n",
        "\n",
        "# ITEMNAME sütununa dayalı benzersiz bir ITEMCODE sütunu oluşturma\n",
        "data['ITEMCODE'] = pd.factorize(data['ITEMNAME'])[0]\n",
        "\n",
        "# Yeni veri setini görüntüleme\n",
        "print(data[['ITEMNAME', 'ITEMCODE']])\n"
      ],
      "metadata": {
        "colab": {
          "base_uri": "https://localhost:8080/"
        },
        "id": "zumm8VczjEvd",
        "outputId": "318be7f4-1420-4ae4-c532-6246ff42ba61"
      },
      "execution_count": 13,
      "outputs": [
        {
          "output_type": "stream",
          "name": "stdout",
          "text": [
            "                               ITEMNAME  ITEMCODE\n",
            "0       SPRITE 1 LT LIMON AROMALI GAZOZ         0\n",
            "1                             TOZ SEKER         1\n",
            "2                  FALIM SAKIZ 5LI NANE         2\n",
            "3                  FALIM SAKIZ 5LI NANE         2\n",
            "4                 FALIM SAKIZ 5LI CILEK         3\n",
            "...                                 ...       ...\n",
            "585791                     EKMEK 250 GR       436\n",
            "585792                     EKMEK 250 GR       436\n",
            "585793                     EKMEK 250 GR       436\n",
            "585794                     EKMEK 250 GR       436\n",
            "585795           ETI 80 GR KARAM BITTER       403\n",
            "\n",
            "[585796 rows x 2 columns]\n"
          ]
        }
      ]
    },
    {
      "cell_type": "code",
      "source": [
        "# CLIENTNAME sütununa dayalı benzersiz bir CLIENTCODE sütunu oluşturma\n",
        "data['CLIENTCODE'] = pd.factorize(data['CLIENTNAME'])[0]\n",
        "\n",
        "# Yeni veri setini görüntüleme\n",
        "print(data[['CLIENTNAME', 'CLIENTCODE']])"
      ],
      "metadata": {
        "colab": {
          "base_uri": "https://localhost:8080/"
        },
        "id": "YYG7Y3eoqmwg",
        "outputId": "98cf3caf-24de-439f-9dec-bf15c72684c5"
      },
      "execution_count": 14,
      "outputs": [
        {
          "output_type": "stream",
          "name": "stdout",
          "text": [
            "              CLIENTNAME  CLIENTCODE\n",
            "0         Sercan KIZILOK           0\n",
            "1           �smet �INGIR           1\n",
            "2            Ya��z KUBAL           2\n",
            "3            Ya��z KUBAL           2\n",
            "4           Habibe AYSAN           3\n",
            "...                  ...         ...\n",
            "585791   Mahmut BAYATG�L       10480\n",
            "585792       Gamze BOTU�       36105\n",
            "585793  Cengiz BEREKET��       32954\n",
            "585794  Elifnur EG�NKAYA       48454\n",
            "585795    Hacer CANDEM�R       35802\n",
            "\n",
            "[585796 rows x 2 columns]\n"
          ]
        }
      ]
    },
    {
      "cell_type": "code",
      "source": [
        "#veriyi görüntüleme\n",
        "data.head()"
      ],
      "metadata": {
        "colab": {
          "base_uri": "https://localhost:8080/",
          "height": 448
        },
        "id": "dx7ozcfbkRKQ",
        "outputId": "3244fe99-c822-482f-db1f-b6705f7b9c07"
      },
      "execution_count": 15,
      "outputs": [
        {
          "output_type": "execute_result",
          "data": {
            "text/plain": [
              "      ID                         ITEMNAME           DATE_  AMOUNT  PRICE  \\\n",
              "0  11738  SPRITE 1 LT LIMON AROMALI GAZOZ  07/01/17 00:00     1.0   2.00   \n",
              "1  10537                        TOZ SEKER  06/01/17 00:00     5.0   2.65   \n",
              "2  11335             FALIM SAKIZ 5LI NANE  03/01/17 00:00     1.0   0.40   \n",
              "3  11336             FALIM SAKIZ 5LI NANE  03/01/17 00:00     1.0   0.40   \n",
              "4  10115            FALIM SAKIZ 5LI CILEK  05/01/17 00:00     1.0   0.40   \n",
              "\n",
              "   LINENETTOTAL  BRANCHNR           BRANCH      SALESMAN      CITY  ...  \\\n",
              "0          2.00        52   Kocaeli Subesi     Ey�p C�NE   Kocaeli  ...   \n",
              "1         13.25         8   Antalya Subesi  �lhan �RENL�   Antalya  ...   \n",
              "2          0.40        40  �stanbul Subesi  �smet SARTIK  �stanbul  ...   \n",
              "3          0.40        40  �stanbul Subesi  �smet SARTIK  �stanbul  ...   \n",
              "4          0.40        41     �zmir Subesi  G�lten I�LAK     �zmir  ...   \n",
              "\n",
              "  BRANDCODE   BRAND CATEGORY_NAME1   CATEGORY_NAME2      CATEGORY_NAME3  \\\n",
              "0       156  SPR�TE         ��ECEK     GAZLI ��ECEK               GAZOZ   \n",
              "1      None    None         ��ECEK        �AY KAHVE  SEKER TATLANDIRICI   \n",
              "2       300   FALIM           GIDA  SAKIZ SEKERLEME               SAKIZ   \n",
              "3       300   FALIM           GIDA  SAKIZ SEKERLEME               SAKIZ   \n",
              "4       300   FALIM           GIDA  SAKIZ SEKERLEME               SAKIZ   \n",
              "\n",
              "        STARTDATE         ENDDATE GENDER ITEMCODE CLIENTCODE  \n",
              "0  08/01/17 16:16  08/01/17 16:17      E        0          0  \n",
              "1  07/01/17 11:04  07/01/17 11:05      E        1          1  \n",
              "2  04/01/17 14:00  04/01/17 14:01      E        2          2  \n",
              "3  04/01/17 14:00  04/01/17 14:01      E        2          2  \n",
              "4  06/01/17 14:00  06/01/17 14:01      K        3          3  \n",
              "\n",
              "[5 rows x 22 columns]"
            ],
            "text/html": [
              "\n",
              "  <div id=\"df-ca9ccc18-3a8e-4aa5-9dc3-2a010348a35e\" class=\"colab-df-container\">\n",
              "    <div>\n",
              "<style scoped>\n",
              "    .dataframe tbody tr th:only-of-type {\n",
              "        vertical-align: middle;\n",
              "    }\n",
              "\n",
              "    .dataframe tbody tr th {\n",
              "        vertical-align: top;\n",
              "    }\n",
              "\n",
              "    .dataframe thead th {\n",
              "        text-align: right;\n",
              "    }\n",
              "</style>\n",
              "<table border=\"1\" class=\"dataframe\">\n",
              "  <thead>\n",
              "    <tr style=\"text-align: right;\">\n",
              "      <th></th>\n",
              "      <th>ID</th>\n",
              "      <th>ITEMNAME</th>\n",
              "      <th>DATE_</th>\n",
              "      <th>AMOUNT</th>\n",
              "      <th>PRICE</th>\n",
              "      <th>LINENETTOTAL</th>\n",
              "      <th>BRANCHNR</th>\n",
              "      <th>BRANCH</th>\n",
              "      <th>SALESMAN</th>\n",
              "      <th>CITY</th>\n",
              "      <th>...</th>\n",
              "      <th>BRANDCODE</th>\n",
              "      <th>BRAND</th>\n",
              "      <th>CATEGORY_NAME1</th>\n",
              "      <th>CATEGORY_NAME2</th>\n",
              "      <th>CATEGORY_NAME3</th>\n",
              "      <th>STARTDATE</th>\n",
              "      <th>ENDDATE</th>\n",
              "      <th>GENDER</th>\n",
              "      <th>ITEMCODE</th>\n",
              "      <th>CLIENTCODE</th>\n",
              "    </tr>\n",
              "  </thead>\n",
              "  <tbody>\n",
              "    <tr>\n",
              "      <th>0</th>\n",
              "      <td>11738</td>\n",
              "      <td>SPRITE 1 LT LIMON AROMALI GAZOZ</td>\n",
              "      <td>07/01/17 00:00</td>\n",
              "      <td>1.0</td>\n",
              "      <td>2.00</td>\n",
              "      <td>2.00</td>\n",
              "      <td>52</td>\n",
              "      <td>Kocaeli Subesi</td>\n",
              "      <td>Ey�p C�NE</td>\n",
              "      <td>Kocaeli</td>\n",
              "      <td>...</td>\n",
              "      <td>156</td>\n",
              "      <td>SPR�TE</td>\n",
              "      <td>��ECEK</td>\n",
              "      <td>GAZLI ��ECEK</td>\n",
              "      <td>GAZOZ</td>\n",
              "      <td>08/01/17 16:16</td>\n",
              "      <td>08/01/17 16:17</td>\n",
              "      <td>E</td>\n",
              "      <td>0</td>\n",
              "      <td>0</td>\n",
              "    </tr>\n",
              "    <tr>\n",
              "      <th>1</th>\n",
              "      <td>10537</td>\n",
              "      <td>TOZ SEKER</td>\n",
              "      <td>06/01/17 00:00</td>\n",
              "      <td>5.0</td>\n",
              "      <td>2.65</td>\n",
              "      <td>13.25</td>\n",
              "      <td>8</td>\n",
              "      <td>Antalya Subesi</td>\n",
              "      <td>�lhan �RENL�</td>\n",
              "      <td>Antalya</td>\n",
              "      <td>...</td>\n",
              "      <td>None</td>\n",
              "      <td>None</td>\n",
              "      <td>��ECEK</td>\n",
              "      <td>�AY KAHVE</td>\n",
              "      <td>SEKER TATLANDIRICI</td>\n",
              "      <td>07/01/17 11:04</td>\n",
              "      <td>07/01/17 11:05</td>\n",
              "      <td>E</td>\n",
              "      <td>1</td>\n",
              "      <td>1</td>\n",
              "    </tr>\n",
              "    <tr>\n",
              "      <th>2</th>\n",
              "      <td>11335</td>\n",
              "      <td>FALIM SAKIZ 5LI NANE</td>\n",
              "      <td>03/01/17 00:00</td>\n",
              "      <td>1.0</td>\n",
              "      <td>0.40</td>\n",
              "      <td>0.40</td>\n",
              "      <td>40</td>\n",
              "      <td>�stanbul Subesi</td>\n",
              "      <td>�smet SARTIK</td>\n",
              "      <td>�stanbul</td>\n",
              "      <td>...</td>\n",
              "      <td>300</td>\n",
              "      <td>FALIM</td>\n",
              "      <td>GIDA</td>\n",
              "      <td>SAKIZ SEKERLEME</td>\n",
              "      <td>SAKIZ</td>\n",
              "      <td>04/01/17 14:00</td>\n",
              "      <td>04/01/17 14:01</td>\n",
              "      <td>E</td>\n",
              "      <td>2</td>\n",
              "      <td>2</td>\n",
              "    </tr>\n",
              "    <tr>\n",
              "      <th>3</th>\n",
              "      <td>11336</td>\n",
              "      <td>FALIM SAKIZ 5LI NANE</td>\n",
              "      <td>03/01/17 00:00</td>\n",
              "      <td>1.0</td>\n",
              "      <td>0.40</td>\n",
              "      <td>0.40</td>\n",
              "      <td>40</td>\n",
              "      <td>�stanbul Subesi</td>\n",
              "      <td>�smet SARTIK</td>\n",
              "      <td>�stanbul</td>\n",
              "      <td>...</td>\n",
              "      <td>300</td>\n",
              "      <td>FALIM</td>\n",
              "      <td>GIDA</td>\n",
              "      <td>SAKIZ SEKERLEME</td>\n",
              "      <td>SAKIZ</td>\n",
              "      <td>04/01/17 14:00</td>\n",
              "      <td>04/01/17 14:01</td>\n",
              "      <td>E</td>\n",
              "      <td>2</td>\n",
              "      <td>2</td>\n",
              "    </tr>\n",
              "    <tr>\n",
              "      <th>4</th>\n",
              "      <td>10115</td>\n",
              "      <td>FALIM SAKIZ 5LI CILEK</td>\n",
              "      <td>05/01/17 00:00</td>\n",
              "      <td>1.0</td>\n",
              "      <td>0.40</td>\n",
              "      <td>0.40</td>\n",
              "      <td>41</td>\n",
              "      <td>�zmir Subesi</td>\n",
              "      <td>G�lten I�LAK</td>\n",
              "      <td>�zmir</td>\n",
              "      <td>...</td>\n",
              "      <td>300</td>\n",
              "      <td>FALIM</td>\n",
              "      <td>GIDA</td>\n",
              "      <td>SAKIZ SEKERLEME</td>\n",
              "      <td>SAKIZ</td>\n",
              "      <td>06/01/17 14:00</td>\n",
              "      <td>06/01/17 14:01</td>\n",
              "      <td>K</td>\n",
              "      <td>3</td>\n",
              "      <td>3</td>\n",
              "    </tr>\n",
              "  </tbody>\n",
              "</table>\n",
              "<p>5 rows × 22 columns</p>\n",
              "</div>\n",
              "    <div class=\"colab-df-buttons\">\n",
              "\n",
              "  <div class=\"colab-df-container\">\n",
              "    <button class=\"colab-df-convert\" onclick=\"convertToInteractive('df-ca9ccc18-3a8e-4aa5-9dc3-2a010348a35e')\"\n",
              "            title=\"Convert this dataframe to an interactive table.\"\n",
              "            style=\"display:none;\">\n",
              "\n",
              "  <svg xmlns=\"http://www.w3.org/2000/svg\" height=\"24px\" viewBox=\"0 -960 960 960\">\n",
              "    <path d=\"M120-120v-720h720v720H120Zm60-500h600v-160H180v160Zm220 220h160v-160H400v160Zm0 220h160v-160H400v160ZM180-400h160v-160H180v160Zm440 0h160v-160H620v160ZM180-180h160v-160H180v160Zm440 0h160v-160H620v160Z\"/>\n",
              "  </svg>\n",
              "    </button>\n",
              "\n",
              "  <style>\n",
              "    .colab-df-container {\n",
              "      display:flex;\n",
              "      gap: 12px;\n",
              "    }\n",
              "\n",
              "    .colab-df-convert {\n",
              "      background-color: #E8F0FE;\n",
              "      border: none;\n",
              "      border-radius: 50%;\n",
              "      cursor: pointer;\n",
              "      display: none;\n",
              "      fill: #1967D2;\n",
              "      height: 32px;\n",
              "      padding: 0 0 0 0;\n",
              "      width: 32px;\n",
              "    }\n",
              "\n",
              "    .colab-df-convert:hover {\n",
              "      background-color: #E2EBFA;\n",
              "      box-shadow: 0px 1px 2px rgba(60, 64, 67, 0.3), 0px 1px 3px 1px rgba(60, 64, 67, 0.15);\n",
              "      fill: #174EA6;\n",
              "    }\n",
              "\n",
              "    .colab-df-buttons div {\n",
              "      margin-bottom: 4px;\n",
              "    }\n",
              "\n",
              "    [theme=dark] .colab-df-convert {\n",
              "      background-color: #3B4455;\n",
              "      fill: #D2E3FC;\n",
              "    }\n",
              "\n",
              "    [theme=dark] .colab-df-convert:hover {\n",
              "      background-color: #434B5C;\n",
              "      box-shadow: 0px 1px 3px 1px rgba(0, 0, 0, 0.15);\n",
              "      filter: drop-shadow(0px 1px 2px rgba(0, 0, 0, 0.3));\n",
              "      fill: #FFFFFF;\n",
              "    }\n",
              "  </style>\n",
              "\n",
              "    <script>\n",
              "      const buttonEl =\n",
              "        document.querySelector('#df-ca9ccc18-3a8e-4aa5-9dc3-2a010348a35e button.colab-df-convert');\n",
              "      buttonEl.style.display =\n",
              "        google.colab.kernel.accessAllowed ? 'block' : 'none';\n",
              "\n",
              "      async function convertToInteractive(key) {\n",
              "        const element = document.querySelector('#df-ca9ccc18-3a8e-4aa5-9dc3-2a010348a35e');\n",
              "        const dataTable =\n",
              "          await google.colab.kernel.invokeFunction('convertToInteractive',\n",
              "                                                    [key], {});\n",
              "        if (!dataTable) return;\n",
              "\n",
              "        const docLinkHtml = 'Like what you see? Visit the ' +\n",
              "          '<a target=\"_blank\" href=https://colab.research.google.com/notebooks/data_table.ipynb>data table notebook</a>'\n",
              "          + ' to learn more about interactive tables.';\n",
              "        element.innerHTML = '';\n",
              "        dataTable['output_type'] = 'display_data';\n",
              "        await google.colab.output.renderOutput(dataTable, element);\n",
              "        const docLink = document.createElement('div');\n",
              "        docLink.innerHTML = docLinkHtml;\n",
              "        element.appendChild(docLink);\n",
              "      }\n",
              "    </script>\n",
              "  </div>\n",
              "\n",
              "\n",
              "<div id=\"df-0498d389-619e-426f-a85c-755b21d746bd\">\n",
              "  <button class=\"colab-df-quickchart\" onclick=\"quickchart('df-0498d389-619e-426f-a85c-755b21d746bd')\"\n",
              "            title=\"Suggest charts\"\n",
              "            style=\"display:none;\">\n",
              "\n",
              "<svg xmlns=\"http://www.w3.org/2000/svg\" height=\"24px\"viewBox=\"0 0 24 24\"\n",
              "     width=\"24px\">\n",
              "    <g>\n",
              "        <path d=\"M19 3H5c-1.1 0-2 .9-2 2v14c0 1.1.9 2 2 2h14c1.1 0 2-.9 2-2V5c0-1.1-.9-2-2-2zM9 17H7v-7h2v7zm4 0h-2V7h2v10zm4 0h-2v-4h2v4z\"/>\n",
              "    </g>\n",
              "</svg>\n",
              "  </button>\n",
              "\n",
              "<style>\n",
              "  .colab-df-quickchart {\n",
              "      --bg-color: #E8F0FE;\n",
              "      --fill-color: #1967D2;\n",
              "      --hover-bg-color: #E2EBFA;\n",
              "      --hover-fill-color: #174EA6;\n",
              "      --disabled-fill-color: #AAA;\n",
              "      --disabled-bg-color: #DDD;\n",
              "  }\n",
              "\n",
              "  [theme=dark] .colab-df-quickchart {\n",
              "      --bg-color: #3B4455;\n",
              "      --fill-color: #D2E3FC;\n",
              "      --hover-bg-color: #434B5C;\n",
              "      --hover-fill-color: #FFFFFF;\n",
              "      --disabled-bg-color: #3B4455;\n",
              "      --disabled-fill-color: #666;\n",
              "  }\n",
              "\n",
              "  .colab-df-quickchart {\n",
              "    background-color: var(--bg-color);\n",
              "    border: none;\n",
              "    border-radius: 50%;\n",
              "    cursor: pointer;\n",
              "    display: none;\n",
              "    fill: var(--fill-color);\n",
              "    height: 32px;\n",
              "    padding: 0;\n",
              "    width: 32px;\n",
              "  }\n",
              "\n",
              "  .colab-df-quickchart:hover {\n",
              "    background-color: var(--hover-bg-color);\n",
              "    box-shadow: 0 1px 2px rgba(60, 64, 67, 0.3), 0 1px 3px 1px rgba(60, 64, 67, 0.15);\n",
              "    fill: var(--button-hover-fill-color);\n",
              "  }\n",
              "\n",
              "  .colab-df-quickchart-complete:disabled,\n",
              "  .colab-df-quickchart-complete:disabled:hover {\n",
              "    background-color: var(--disabled-bg-color);\n",
              "    fill: var(--disabled-fill-color);\n",
              "    box-shadow: none;\n",
              "  }\n",
              "\n",
              "  .colab-df-spinner {\n",
              "    border: 2px solid var(--fill-color);\n",
              "    border-color: transparent;\n",
              "    border-bottom-color: var(--fill-color);\n",
              "    animation:\n",
              "      spin 1s steps(1) infinite;\n",
              "  }\n",
              "\n",
              "  @keyframes spin {\n",
              "    0% {\n",
              "      border-color: transparent;\n",
              "      border-bottom-color: var(--fill-color);\n",
              "      border-left-color: var(--fill-color);\n",
              "    }\n",
              "    20% {\n",
              "      border-color: transparent;\n",
              "      border-left-color: var(--fill-color);\n",
              "      border-top-color: var(--fill-color);\n",
              "    }\n",
              "    30% {\n",
              "      border-color: transparent;\n",
              "      border-left-color: var(--fill-color);\n",
              "      border-top-color: var(--fill-color);\n",
              "      border-right-color: var(--fill-color);\n",
              "    }\n",
              "    40% {\n",
              "      border-color: transparent;\n",
              "      border-right-color: var(--fill-color);\n",
              "      border-top-color: var(--fill-color);\n",
              "    }\n",
              "    60% {\n",
              "      border-color: transparent;\n",
              "      border-right-color: var(--fill-color);\n",
              "    }\n",
              "    80% {\n",
              "      border-color: transparent;\n",
              "      border-right-color: var(--fill-color);\n",
              "      border-bottom-color: var(--fill-color);\n",
              "    }\n",
              "    90% {\n",
              "      border-color: transparent;\n",
              "      border-bottom-color: var(--fill-color);\n",
              "    }\n",
              "  }\n",
              "</style>\n",
              "\n",
              "  <script>\n",
              "    async function quickchart(key) {\n",
              "      const quickchartButtonEl =\n",
              "        document.querySelector('#' + key + ' button');\n",
              "      quickchartButtonEl.disabled = true;  // To prevent multiple clicks.\n",
              "      quickchartButtonEl.classList.add('colab-df-spinner');\n",
              "      try {\n",
              "        const charts = await google.colab.kernel.invokeFunction(\n",
              "            'suggestCharts', [key], {});\n",
              "      } catch (error) {\n",
              "        console.error('Error during call to suggestCharts:', error);\n",
              "      }\n",
              "      quickchartButtonEl.classList.remove('colab-df-spinner');\n",
              "      quickchartButtonEl.classList.add('colab-df-quickchart-complete');\n",
              "    }\n",
              "    (() => {\n",
              "      let quickchartButtonEl =\n",
              "        document.querySelector('#df-0498d389-619e-426f-a85c-755b21d746bd button');\n",
              "      quickchartButtonEl.style.display =\n",
              "        google.colab.kernel.accessAllowed ? 'block' : 'none';\n",
              "    })();\n",
              "  </script>\n",
              "</div>\n",
              "\n",
              "    </div>\n",
              "  </div>\n"
            ],
            "application/vnd.google.colaboratory.intrinsic+json": {
              "type": "dataframe",
              "variable_name": "data"
            }
          },
          "metadata": {},
          "execution_count": 15
        },
        {
          "output_type": "stream",
          "name": "stdout",
          "text": [
            "Warning: Total number of columns (22) exceeds max_columns (20) limiting to first (20) columns.\n"
          ]
        }
      ]
    },
    {
      "cell_type": "code",
      "source": [
        "#ALS algoritması ve doğruluk değeri için gerekli kütüphaneleri import etme\n",
        "from pyspark.ml.recommendation import ALS\n",
        "from pyspark.ml.evaluation import RegressionEvaluator"
      ],
      "metadata": {
        "id": "a3t8Y0_2mqRF"
      },
      "execution_count": 16,
      "outputs": []
    },
    {
      "cell_type": "code",
      "source": [
        "#veriyi tekrar spark a çevirme\n",
        "data = spark.createDataFrame(data)"
      ],
      "metadata": {
        "id": "7O3Lfjw8n6eb"
      },
      "execution_count": 17,
      "outputs": []
    },
    {
      "cell_type": "code",
      "source": [
        "#verideki benzersiz müşteri sayısı\n",
        "data.select(\"CLIENTCODE\").distinct().count()"
      ],
      "metadata": {
        "colab": {
          "base_uri": "https://localhost:8080/"
        },
        "id": "Wkamumjeneqo",
        "outputId": "1b1ee2b1-5082-4b1e-8df5-4c1882b31af2"
      },
      "execution_count": 18,
      "outputs": [
        {
          "output_type": "execute_result",
          "data": {
            "text/plain": [
              "52703"
            ]
          },
          "metadata": {},
          "execution_count": 18
        }
      ]
    },
    {
      "cell_type": "code",
      "source": [
        "#verideki benzersiz item sayısı\n",
        "data.select(\"ITEMCODE\").distinct().count()"
      ],
      "metadata": {
        "colab": {
          "base_uri": "https://localhost:8080/"
        },
        "id": "EmItWvcNnpNE",
        "outputId": "32828379-c2af-4011-e613-375f907cf0d9"
      },
      "execution_count": 19,
      "outputs": [
        {
          "output_type": "execute_result",
          "data": {
            "text/plain": [
              "9266"
            ]
          },
          "metadata": {},
          "execution_count": 19
        }
      ]
    },
    {
      "cell_type": "code",
      "source": [
        "# Müşteri ve ürün bazında satın alma sayısını hesaplama\n",
        "rating_df = data.groupBy(\"CLIENTCODE\", \"ITEMCODE\").count().withColumnRenamed(\"count\", \"RATING\")\n",
        "\n",
        "# Mevcut DataFrame ile birleştirerek yeni sütunu ekleme\n",
        "data = data.join(rating_df, on=[\"CLIENTCODE\", \"ITEMCODE\"], how=\"left\")\n",
        "data.show()"
      ],
      "metadata": {
        "colab": {
          "base_uri": "https://localhost:8080/"
        },
        "id": "WDe90apE2g3G",
        "outputId": "0cfccace-4a7e-4ce6-bef2-580e341a55be"
      },
      "execution_count": 44,
      "outputs": [
        {
          "output_type": "stream",
          "name": "stdout",
          "text": [
            "+----------+--------+------+--------------------+--------------+------+-----+------------+--------+-----------------+------------------+----------+-----------------+------------------+---------+---------+---------------+---------------+------------------+--------------+--------------+------+------+\n",
            "|CLIENTCODE|ITEMCODE|    ID|            ITEMNAME|         DATE_|AMOUNT|PRICE|LINENETTOTAL|BRANCHNR|           BRANCH|          SALESMAN|      CITY|           REGION|        CLIENTNAME|BRANDCODE|    BRAND| CATEGORY_NAME1| CATEGORY_NAME2|    CATEGORY_NAME3|     STARTDATE|       ENDDATE|GENDER|RATING|\n",
            "+----------+--------+------+--------------------+--------------+------+-----+------------+--------+-----------------+------------------+----------+-----------------+------------------+---------+---------+---------------+---------------+------------------+--------------+--------------+------+------+\n",
            "|         1|       1| 10537|           TOZ SEKER|06/01/17 00:00|   5.0| 2.65|       13.25|       8|   Antalya Subesi|      �lhan �RENL�|   Antalya|          Akdeniz|      �smet �INGIR|     NULL|     NULL|         ��ECEK|      �AY KAHVE|SEKER TATLANDIRICI|07/01/17 11:04|07/01/17 11:05|     E|     1|\n",
            "|         3|       3| 10115|FALIM SAKIZ 5LI C...|05/01/17 00:00|   1.0|  0.4|         0.4|      41|     �zmir Subesi|      G�lten I�LAK|     �zmir|              Ege|      Habibe AYSAN|      300|    FALIM|           GIDA|SAKIZ SEKERLEME|             SAKIZ|06/01/17 14:00|06/01/17 14:01|     K|     1|\n",
            "|         6|       1| 11348|           TOZ SEKER|03/01/17 00:00|   2.0| 2.65|         5.3|      40|  �stanbul Subesi|       Arife DORAP|  �stanbul|          Marmara|        Efe HAN�AR|     NULL|     NULL|         ��ECEK|      �AY KAHVE|SEKER TATLANDIRICI|04/01/17 14:40|04/01/17 14:42|     E|     1|\n",
            "|         7|       1| 10545|           TOZ SEKER|06/01/17 00:00|   2.0| 2.65|         5.3|      56|    Manisa Subesi|        Adil ONDIN|    Manisa|              Ege|      Melisa G���N|     NULL|     NULL|         ��ECEK|      �AY KAHVE|SEKER TATLANDIRICI|07/01/17 11:08|07/01/17 11:08|     K|     1|\n",
            "|         8|       5| 11411|F NEFFIS KESME SE...|03/01/17 00:00|   1.0| 2.85|        2.85|      59|     Mu�la Subesi|     Remziye KES�M|     Mu�la|              Ege|     ��kran COMART|       49| F NEFF�S|         ��ECEK|      �AY KAHVE|SEKER TATLANDIRICI|04/01/17 15:56|04/01/17 15:57|     K|     1|\n",
            "|        10|       7| 10304|VIVIDENT CZD FRUI...|05/01/17 00:00|   1.0| 1.95|        1.95|       1|     Adana Subesi|Ramazan SARIMEHMET|     Adana|          Akdeniz|      Rahime KASAP|      148| V�V�DENT|           GIDA|SAKIZ SEKERLEME|             SAKIZ|06/01/17 19:52|06/01/17 19:52|     K|     1|\n",
            "|        13|      11|  9625|      SALKIM DOMATES|06/01/17 00:00| 0.945|  5.2|        4.91|      12| Bal�kesir Subesi|     Sami KASIMOVA| Bal�kesir|              Ege|     Miray KO�O�LU|      A25|      HAL|    MEYVE SEBZE|          SEBZE|              NULL|07/01/17 11:12|07/01/17 11:13|     K|     1|\n",
            "|        14|      12|  9748|             PATATES|06/01/17 00:00|  2.79| 2.45|        6.84|      12| Bal�kesir Subesi|     Sami KASIMOVA| Bal�kesir|              Ege|      Bilal PORSUK|      A25|      HAL|    MEYVE SEBZE|          SEBZE|              NULL|07/01/17 14:28|07/01/17 14:29|     E|     1|\n",
            "|        15|      11|  9852|      SALKIM DOMATES|06/01/17 00:00| 0.745|  5.2|        3.87|      48| K�r�kkale Subesi|      Sami �AYKARA| K�r�kkale|       �� Anadolu|     Hakan �ZKUTEN|      A25|      HAL|    MEYVE SEBZE|          SEBZE|              NULL|07/01/17 16:28|07/01/17 16:29|     E|     1|\n",
            "|      4983|    2479|256173|FILIZ MAKARNA KIS...|10/02/17 00:00|   1.0| 1.15|        1.15|      26|Diyarbak�r Subesi|       Beyza SABAS|Diyarbak�r|G�neydo�u Anadolu|        Azad �AVAN|       52|    F�L�Z|           GIDA|        MAKARNA|          MAKARNA |11/02/17 10:57|11/02/17 11:00|     E|     1|\n",
            "|     16005|    3547|251855|ULKER HOBBY KREM ...|10/02/17 00:00|   1.0| 5.95|        5.95|      47|   Kayseri Subesi|     Saniye GER�EK|   Kayseri|       �� Anadolu|        Cem KARPAK|      146|    �LKER|S�T KAHVALTILIK|    KAHVALTILIK|     KREM ��KOLATA|11/02/17 19:54|11/02/17 19:55|     E|     1|\n",
            "|     16841|      22|249928|            KIVIRCIK|09/02/17 00:00|   1.0| 1.25|        1.25|      14|    Batman Subesi|     Berat M�LAY�M|    Batman|G�neydo�u Anadolu|       Semih VERAL|      A25|      HAL|    MEYVE SEBZE|          SEBZE|              NULL|10/02/17 13:57|10/02/17 13:59|     E|     1|\n",
            "|     19292|    1774|256068|      HD BLUE SIGARA|10/02/17 00:00|   1.0|  5.0|         5.0|      40|  �stanbul Subesi|       Dilan �ALAR|  �stanbul|          Marmara|Elif su G�C�YETMEZ|      231|    V�GOR|         S�GARA|           NULL|              NULL|11/02/17 15:42|11/02/17 15:42|     K|     1|\n",
            "|     20757|      64|255720|YAHYAOGLU 15 LI Y...|10/02/17 00:00|   1.0| 4.85|        4.85|      12| Bal�kesir Subesi|     Neriman BEYAZ| Bal�kesir|              Ege|Fatma zehra TERKES|      341|YAHYAO�LU|S�T KAHVALTILIK|        YUMURTA|              NULL|11/02/17 17:54|11/02/17 17:55|     K|     1|\n",
            "|     23261|      12|252299|             PATATES|10/02/17 00:00|  2.23|  2.7|        6.02|      52|   Kocaeli Subesi|     Nihal SERMEST|   Kocaeli|          Marmara|       Arda BOLATA|      A25|      HAL|    MEYVE SEBZE|          SEBZE|              NULL|11/02/17 13:36|11/02/17 13:38|     E|     1|\n",
            "|     23261|    3350|252297|         SOKE UN 5KG|10/02/17 00:00|   1.0| 9.99|        9.99|      52|   Kocaeli Subesi|     Nihal SERMEST|   Kocaeli|          Marmara|       Arda BOLATA|      133|     S�KE|           GIDA|  UNLU MAM�LLER|                UN|11/02/17 13:36|11/02/17 13:38|     E|     1|\n",
            "|     24659|      69|251625|YAHYAOGLU 30 LU B...|10/02/17 00:00|   1.0|  9.5|         9.5|      40|  �stanbul Subesi|      �smet SARTIK|  �stanbul|          Marmara| Perihan NASIRO�LU|      341|YAHYAO�LU|S�T KAHVALTILIK|        YUMURTA|              NULL|11/02/17 18:06|11/02/17 18:07|     K|     1|\n",
            "|     24675|      15|255811|             DOMATES|10/02/17 00:00| 0.415|  1.6|        0.66|       1|     Adana Subesi|     Mahir B�LEK��|     Adana|          Akdeniz|�rem FERAH�A�IRGAN|      A25|      HAL|    MEYVE SEBZE|          SEBZE|              NULL|11/02/17 18:33|11/02/17 18:33|     K|     1|\n",
            "|     24688|      18|256015|            SARIMSAK|10/02/17 00:00|   0.2|12.25|        2.45|      25|   Denizli Subesi|     Ferhat YELKEN|   Denizli|              Ege|        ��kr� �R��|      A25|      HAL|    MEYVE SEBZE|          SEBZE|              NULL|11/02/17 14:39|11/02/17 14:42|     E|     1|\n",
            "|     42873|      12|255554|             PATATES|10/02/17 00:00|  1.76|  2.7|        4.75|      40|  �stanbul Subesi|       Arife DORAP|  �stanbul|          Marmara|   Meliha ECZANAS�|      A25|      HAL|    MEYVE SEBZE|          SEBZE|              NULL|11/02/17 16:27|11/02/17 16:27|     K|     1|\n",
            "+----------+--------+------+--------------------+--------------+------+-----+------------+--------+-----------------+------------------+----------+-----------------+------------------+---------+---------+---------------+---------------+------------------+--------------+--------------+------+------+\n",
            "only showing top 20 rows\n",
            "\n"
          ]
        }
      ]
    },
    {
      "cell_type": "code",
      "source": [
        "#bir müşterinin bir ürünü en fazla kaç kere aldığını gösterme\n",
        "data.select(\"RATING\").distinct().count()"
      ],
      "metadata": {
        "colab": {
          "base_uri": "https://localhost:8080/"
        },
        "id": "K3jIfuWh327U",
        "outputId": "12da03bf-c0ad-4d8f-c11b-b5afbf8434ff"
      },
      "execution_count": 50,
      "outputs": [
        {
          "output_type": "execute_result",
          "data": {
            "text/plain": [
              "14"
            ]
          },
          "metadata": {},
          "execution_count": 50
        }
      ]
    },
    {
      "cell_type": "code",
      "source": [
        "#Veri setinden algoritmada kullanılacak ilgili alanları yeni bir veri setine atama\n",
        "data_=data.select(\"CLIENTCODE\",\"ITEMCODE\",\"RATING\")"
      ],
      "metadata": {
        "id": "oyJbKnhepGhq"
      },
      "execution_count": 45,
      "outputs": []
    },
    {
      "cell_type": "code",
      "source": [
        "#Bu veri setini eğitim ve test olarak bölme\n",
        "trainDF,testDF=data_.randomSplit([0.8,0.2])"
      ],
      "metadata": {
        "id": "UK-sYoc3pd6t"
      },
      "execution_count": 46,
      "outputs": []
    },
    {
      "cell_type": "code",
      "source": [
        "#eğitim veri sayısı\n",
        "trainDF.count()"
      ],
      "metadata": {
        "colab": {
          "base_uri": "https://localhost:8080/"
        },
        "id": "YktkMQw9pjSJ",
        "outputId": "3fc70910-3644-470d-dcbc-eb4191a7533b"
      },
      "execution_count": 32,
      "outputs": [
        {
          "output_type": "execute_result",
          "data": {
            "text/plain": [
              "468593"
            ]
          },
          "metadata": {},
          "execution_count": 32
        }
      ]
    },
    {
      "cell_type": "code",
      "source": [
        "#test veri sayısı\n",
        "testDF.count()"
      ],
      "metadata": {
        "colab": {
          "base_uri": "https://localhost:8080/"
        },
        "id": "yqvZOtHApmH7",
        "outputId": "55775d96-4958-4ab8-d63c-00af6a2e5fab"
      },
      "execution_count": 33,
      "outputs": [
        {
          "output_type": "execute_result",
          "data": {
            "text/plain": [
              "117203"
            ]
          },
          "metadata": {},
          "execution_count": 33
        }
      ]
    },
    {
      "cell_type": "code",
      "source": [
        "#ALS fonksiyonuna gerekli parametreleri verme\n",
        "als=ALS(userCol=\"CLIENTCODE\",itemCol=\"ITEMCODE\",ratingCol=\"RATING\",coldStartStrategy=\"drop\",nonnegative=True)"
      ],
      "metadata": {
        "id": "lPFeNeUpr4aX"
      },
      "execution_count": 48,
      "outputs": []
    },
    {
      "cell_type": "code",
      "source": [
        "#Modeli eğitme\n",
        "model=als.fit(trainDF)"
      ],
      "metadata": {
        "id": "wvyaH1p-poLG"
      },
      "execution_count": 49,
      "outputs": []
    },
    {
      "cell_type": "code",
      "source": [
        "#Test veri setinden tahminler oluşturma\n",
        "predict=model.transform(testDF)"
      ],
      "metadata": {
        "id": "AiT2zEpDpsPN"
      },
      "execution_count": 51,
      "outputs": []
    },
    {
      "cell_type": "code",
      "source": [
        "#Tahminleri görüntüleme\n",
        "predict.show()"
      ],
      "metadata": {
        "colab": {
          "base_uri": "https://localhost:8080/"
        },
        "id": "aOJ3nic4wwI8",
        "outputId": "3127f437-d4f8-4632-b787-c7d368836e29"
      },
      "execution_count": 52,
      "outputs": [
        {
          "output_type": "stream",
          "name": "stdout",
          "text": [
            "+----------+--------+------+----------+\n",
            "|CLIENTCODE|ITEMCODE|RATING|prediction|\n",
            "+----------+--------+------+----------+\n",
            "|       463|     411|     1| 1.0109797|\n",
            "|       471|     422|     2| 1.3669574|\n",
            "|       471|     644|     1| 1.6594344|\n",
            "|       471|     772|     1| 1.1131002|\n",
            "|       471|    1104|     3|  1.520147|\n",
            "|       471|    1193|     1| 0.9181811|\n",
            "|       496|     422|     2| 1.3322736|\n",
            "|       496|     804|     1| 1.2149088|\n",
            "|       833|      44|     1| 1.1818179|\n",
            "|      1088|      55|     1|0.87515235|\n",
            "|      1088|    1534|     1|0.86440444|\n",
            "|      1088|    3895|     1| 1.1466732|\n",
            "|      1238|      61|     1| 1.0293196|\n",
            "|      1238|     345|     1| 1.0350469|\n",
            "|      1238|    5028|     1|  1.361135|\n",
            "|      1342|    2023|     1| 1.2323959|\n",
            "|      1580|      46|     1| 0.9653956|\n",
            "|      1580|     259|     1| 1.1444203|\n",
            "|      1580|     614|     1| 1.0797535|\n",
            "|      1580|    3133|     1| 0.9721114|\n",
            "+----------+--------+------+----------+\n",
            "only showing top 20 rows\n",
            "\n"
          ]
        }
      ]
    },
    {
      "cell_type": "code",
      "source": [
        "#Modelin doğruluğunu inceleme\n",
        "evaluator=RegressionEvaluator(metricName=\"rmse\",labelCol=\"RATING\",predictionCol=\"prediction\")"
      ],
      "metadata": {
        "id": "onKFiToUwye9"
      },
      "execution_count": 53,
      "outputs": []
    },
    {
      "cell_type": "code",
      "source": [
        "rmse=evaluator.evaluate(predict)"
      ],
      "metadata": {
        "id": "EIEcP-OWxINU"
      },
      "execution_count": 54,
      "outputs": []
    },
    {
      "cell_type": "code",
      "source": [
        "#hata oranı\n",
        "rmse"
      ],
      "metadata": {
        "colab": {
          "base_uri": "https://localhost:8080/"
        },
        "id": "mMz9-JSbxKzW",
        "outputId": "6ff5ed99-ca3d-4d20-f7cd-476d8c799cb8"
      },
      "execution_count": 55,
      "outputs": [
        {
          "output_type": "execute_result",
          "data": {
            "text/plain": [
              "0.4075867330420228"
            ]
          },
          "metadata": {},
          "execution_count": 55
        }
      ]
    },
    {
      "cell_type": "code",
      "source": [
        "#hata oranının büyüklüğünü anlayabilmek için ratinglerin ortalamasının yazdırılması\n",
        "data.select('RATING').agg({'RATING':'mean'}).show()"
      ],
      "metadata": {
        "colab": {
          "base_uri": "https://localhost:8080/"
        },
        "id": "lAON5ALN8Z3p",
        "outputId": "b9e2fe00-eeac-4979-ed74-6fc724f3a668"
      },
      "execution_count": 58,
      "outputs": [
        {
          "output_type": "stream",
          "name": "stdout",
          "text": [
            "+------------------+\n",
            "|       avg(RATING)|\n",
            "+------------------+\n",
            "|1.2486155590000614|\n",
            "+------------------+\n",
            "\n"
          ]
        }
      ]
    },
    {
      "cell_type": "code",
      "source": [
        "#Her bir müşteriye özel 3 ürün önerisi\n",
        "model.recommendForAllUsers(numItems=3).show(truncate=False)"
      ],
      "metadata": {
        "colab": {
          "base_uri": "https://localhost:8080/"
        },
        "id": "gOHnQM6tzdQR",
        "outputId": "5e8fbb36-ba6c-4be7-cb24-a47689fa6b82"
      },
      "execution_count": 57,
      "outputs": [
        {
          "output_type": "stream",
          "name": "stdout",
          "text": [
            "+----------+---------------------------------------------------------+\n",
            "|CLIENTCODE|recommendations                                          |\n",
            "+----------+---------------------------------------------------------+\n",
            "|1         |[{9150, 2.9310951}, {8061, 2.9172232}, {3765, 2.7226257}]|\n",
            "|3         |[{5970, 2.4674907}, {9150, 2.4522004}, {8061, 2.4387717}]|\n",
            "|5         |[{5433, 3.6706877}, {2576, 3.4692152}, {3765, 3.0720844}]|\n",
            "|6         |[{8061, 3.2314706}, {4784, 3.0319357}, {9150, 2.843273}] |\n",
            "|9         |[{8061, 3.6143997}, {1123, 3.3655148}, {5970, 3.2508407}]|\n",
            "|12        |[{8061, 2.5666249}, {9150, 2.4917092}, {3765, 2.3000653}]|\n",
            "|13        |[{8061, 2.4886265}, {9150, 2.405911}, {3765, 2.22077}]   |\n",
            "|15        |[{9150, 2.37844}, {8061, 2.236093}, {3765, 2.124254}]    |\n",
            "|16        |[{8061, 4.3504963}, {9150, 3.633235}, {9002, 3.567014}]  |\n",
            "|17        |[{9150, 3.5915532}, {8061, 3.4470344}, {3765, 3.2099156}]|\n",
            "|19        |[{3025, 4.9095936}, {2498, 4.3756824}, {9150, 4.3262024}]|\n",
            "|20        |[{7921, 4.8668194}, {4960, 4.3675284}, {9150, 4.337264}] |\n",
            "|22        |[{8061, 2.4576874}, {9150, 2.3568242}, {3765, 2.1174786}]|\n",
            "|26        |[{8061, 2.5796704}, {9150, 2.5546324}, {3765, 2.37921}]  |\n",
            "|27        |[{8061, 2.913594}, {5311, 2.6425254}, {8310, 2.6250434}] |\n",
            "|28        |[{9150, 2.9364648}, {8061, 2.886579}, {8310, 2.8437583}] |\n",
            "|31        |[{8061, 3.9121754}, {2914, 3.6323009}, {3864, 3.2540703}]|\n",
            "|34        |[{8061, 2.792387}, {2914, 2.7502244}, {4784, 2.5324168}] |\n",
            "|35        |[{8061, 3.149158}, {2914, 2.7159624}, {9150, 2.4531431}] |\n",
            "|37        |[{8061, 2.3265746}, {1123, 2.1541967}, {9150, 2.1264718}]|\n",
            "+----------+---------------------------------------------------------+\n",
            "only showing top 20 rows\n",
            "\n"
          ]
        }
      ]
    },
    {
      "cell_type": "code",
      "source": [],
      "metadata": {
        "id": "HzeaVPFa40Id"
      },
      "execution_count": null,
      "outputs": []
    }
  ]
}